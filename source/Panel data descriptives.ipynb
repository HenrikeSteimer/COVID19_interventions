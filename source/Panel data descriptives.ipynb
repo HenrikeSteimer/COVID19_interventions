{
 "cells": [
  {
   "cell_type": "markdown",
   "metadata": {},
   "source": [
    "# Descriptive statistics for panel data"
   ]
  },
  {
   "cell_type": "code",
   "execution_count": null,
   "metadata": {},
   "outputs": [],
   "source": []
  },
  {
   "cell_type": "markdown",
   "metadata": {},
   "source": [
    "## Import packages and data"
   ]
  },
  {
   "cell_type": "code",
   "execution_count": 162,
   "metadata": {},
   "outputs": [],
   "source": [
    "# Import packages\n",
    "\n",
    "import numpy as np\n",
    "import pandas as pd\n",
    "import matplotlib.pyplot as plt\n",
    "\n",
    "import seaborn as sns\n",
    "%matplotlib inline"
   ]
  },
  {
   "cell_type": "code",
   "execution_count": 163,
   "metadata": {},
   "outputs": [
    {
     "data": {
      "text/html": [
       "<div>\n",
       "<style scoped>\n",
       "    .dataframe tbody tr th:only-of-type {\n",
       "        vertical-align: middle;\n",
       "    }\n",
       "\n",
       "    .dataframe tbody tr th {\n",
       "        vertical-align: top;\n",
       "    }\n",
       "\n",
       "    .dataframe thead th {\n",
       "        text-align: right;\n",
       "    }\n",
       "</style>\n",
       "<table border=\"1\" class=\"dataframe\">\n",
       "  <thead>\n",
       "    <tr style=\"text-align: right;\">\n",
       "      <th></th>\n",
       "      <th>date</th>\n",
       "      <th>county</th>\n",
       "      <th>state_name</th>\n",
       "      <th>fips</th>\n",
       "      <th>cases</th>\n",
       "      <th>deaths</th>\n",
       "      <th>county_code</th>\n",
       "      <th>state</th>\n",
       "      <th>locality</th>\n",
       "      <th>locality_original</th>\n",
       "      <th>...</th>\n",
       "      <th>PC_4</th>\n",
       "      <th>PC_5</th>\n",
       "      <th>PC_6</th>\n",
       "      <th>SD</th>\n",
       "      <th>SD_2</th>\n",
       "      <th>SD_3</th>\n",
       "      <th>SDO</th>\n",
       "      <th>SDO_2</th>\n",
       "      <th>SDO_3</th>\n",
       "      <th>SDO_4</th>\n",
       "    </tr>\n",
       "  </thead>\n",
       "  <tbody>\n",
       "    <tr>\n",
       "      <th>0</th>\n",
       "      <td>2020-03-01</td>\n",
       "      <td>Alameda</td>\n",
       "      <td>California</td>\n",
       "      <td>6001.0</td>\n",
       "      <td>1</td>\n",
       "      <td>0</td>\n",
       "      <td>1</td>\n",
       "      <td>CA</td>\n",
       "      <td>alameda county</td>\n",
       "      <td>alameda_county</td>\n",
       "      <td>...</td>\n",
       "      <td>0</td>\n",
       "      <td>0</td>\n",
       "      <td>0</td>\n",
       "      <td>0</td>\n",
       "      <td>0</td>\n",
       "      <td>0</td>\n",
       "      <td>0</td>\n",
       "      <td>0</td>\n",
       "      <td>0</td>\n",
       "      <td>0</td>\n",
       "    </tr>\n",
       "    <tr>\n",
       "      <th>1</th>\n",
       "      <td>2020-03-02</td>\n",
       "      <td>Alameda</td>\n",
       "      <td>California</td>\n",
       "      <td>6001.0</td>\n",
       "      <td>1</td>\n",
       "      <td>0</td>\n",
       "      <td>1</td>\n",
       "      <td>CA</td>\n",
       "      <td>alameda county</td>\n",
       "      <td>alameda_county</td>\n",
       "      <td>...</td>\n",
       "      <td>0</td>\n",
       "      <td>0</td>\n",
       "      <td>0</td>\n",
       "      <td>0</td>\n",
       "      <td>0</td>\n",
       "      <td>0</td>\n",
       "      <td>0</td>\n",
       "      <td>0</td>\n",
       "      <td>0</td>\n",
       "      <td>0</td>\n",
       "    </tr>\n",
       "    <tr>\n",
       "      <th>2</th>\n",
       "      <td>2020-03-03</td>\n",
       "      <td>Alameda</td>\n",
       "      <td>California</td>\n",
       "      <td>6001.0</td>\n",
       "      <td>2</td>\n",
       "      <td>0</td>\n",
       "      <td>1</td>\n",
       "      <td>CA</td>\n",
       "      <td>alameda county</td>\n",
       "      <td>alameda_county</td>\n",
       "      <td>...</td>\n",
       "      <td>0</td>\n",
       "      <td>0</td>\n",
       "      <td>0</td>\n",
       "      <td>0</td>\n",
       "      <td>0</td>\n",
       "      <td>0</td>\n",
       "      <td>0</td>\n",
       "      <td>0</td>\n",
       "      <td>0</td>\n",
       "      <td>0</td>\n",
       "    </tr>\n",
       "    <tr>\n",
       "      <th>3</th>\n",
       "      <td>2020-03-04</td>\n",
       "      <td>Alameda</td>\n",
       "      <td>California</td>\n",
       "      <td>6001.0</td>\n",
       "      <td>2</td>\n",
       "      <td>0</td>\n",
       "      <td>1</td>\n",
       "      <td>CA</td>\n",
       "      <td>alameda county</td>\n",
       "      <td>alameda_county</td>\n",
       "      <td>...</td>\n",
       "      <td>0</td>\n",
       "      <td>0</td>\n",
       "      <td>0</td>\n",
       "      <td>0</td>\n",
       "      <td>0</td>\n",
       "      <td>0</td>\n",
       "      <td>0</td>\n",
       "      <td>0</td>\n",
       "      <td>0</td>\n",
       "      <td>0</td>\n",
       "    </tr>\n",
       "    <tr>\n",
       "      <th>4</th>\n",
       "      <td>2020-03-05</td>\n",
       "      <td>Alameda</td>\n",
       "      <td>California</td>\n",
       "      <td>6001.0</td>\n",
       "      <td>2</td>\n",
       "      <td>0</td>\n",
       "      <td>1</td>\n",
       "      <td>CA</td>\n",
       "      <td>alameda county</td>\n",
       "      <td>alameda_county</td>\n",
       "      <td>...</td>\n",
       "      <td>0</td>\n",
       "      <td>0</td>\n",
       "      <td>0</td>\n",
       "      <td>0</td>\n",
       "      <td>0</td>\n",
       "      <td>0</td>\n",
       "      <td>0</td>\n",
       "      <td>0</td>\n",
       "      <td>0</td>\n",
       "      <td>0</td>\n",
       "    </tr>\n",
       "  </tbody>\n",
       "</table>\n",
       "<p>5 rows × 47 columns</p>\n",
       "</div>"
      ],
      "text/plain": [
       "         date   county  state_name    fips  cases  deaths  county_code state  \\\n",
       "0  2020-03-01  Alameda  California  6001.0      1       0            1    CA   \n",
       "1  2020-03-02  Alameda  California  6001.0      1       0            1    CA   \n",
       "2  2020-03-03  Alameda  California  6001.0      2       0            1    CA   \n",
       "3  2020-03-04  Alameda  California  6001.0      2       0            1    CA   \n",
       "4  2020-03-05  Alameda  California  6001.0      2       0            1    CA   \n",
       "\n",
       "         locality locality_original  ...  PC_4  PC_5  PC_6  SD  SD_2  SD_3  \\\n",
       "0  alameda county    alameda_county  ...     0     0     0   0     0     0   \n",
       "1  alameda county    alameda_county  ...     0     0     0   0     0     0   \n",
       "2  alameda county    alameda_county  ...     0     0     0   0     0     0   \n",
       "3  alameda county    alameda_county  ...     0     0     0   0     0     0   \n",
       "4  alameda county    alameda_county  ...     0     0     0   0     0     0   \n",
       "\n",
       "   SDO  SDO_2  SDO_3  SDO_4  \n",
       "0    0      0      0      0  \n",
       "1    0      0      0      0  \n",
       "2    0      0      0      0  \n",
       "3    0      0      0      0  \n",
       "4    0      0      0      0  \n",
       "\n",
       "[5 rows x 47 columns]"
      ]
     },
     "execution_count": 163,
     "metadata": {},
     "output_type": "execute_result"
    }
   ],
   "source": [
    "# Import data prepared by https://github.com/khakieconomics/covid_data\n",
    "# This is panel data created using the information on deaths and cases from NY Times and Non-Pharmaceutical Interventions from Keystone Strategy\n",
    "\n",
    "df = pd.read_csv('../../covid_data/interventions_and_deaths.csv')\n",
    "df.head()"
   ]
  },
  {
   "cell_type": "markdown",
   "metadata": {},
   "source": [
    "## First checks on data"
   ]
  },
  {
   "cell_type": "code",
   "execution_count": 164,
   "metadata": {},
   "outputs": [
    {
     "data": {
      "text/plain": [
       "(900, 47)"
      ]
     },
     "execution_count": 164,
     "metadata": {},
     "output_type": "execute_result"
    }
   ],
   "source": [
    "# Size of dataset\n",
    "df.shape"
   ]
  },
  {
   "cell_type": "code",
   "execution_count": 165,
   "metadata": {},
   "outputs": [
    {
     "data": {
      "text/plain": [
       "Index(['date', 'county', 'state_name', 'fips', 'cases', 'deaths',\n",
       "       'county_code', 'state', 'locality', 'locality_original', 'CPV', 'CPV_2',\n",
       "       'CPV_3', 'CPV_4', 'CPV_5', 'CPV_50', 'CPV_6', 'GS_10', 'GS_10_2',\n",
       "       'GS_10_3', 'GS_100', 'GS_1000', 'GS_25', 'GS_25_2', 'GS_250',\n",
       "       'GS_250_2', 'GS_50', 'GS_50_2', 'GS_500', 'LD', 'LD_2', 'NESC',\n",
       "       'NESC_2', 'NESC_3', 'PC', 'PC_2', 'PC_3', 'PC_4', 'PC_5', 'PC_6', 'SD',\n",
       "       'SD_2', 'SD_3', 'SDO', 'SDO_2', 'SDO_3', 'SDO_4'],\n",
       "      dtype='object')"
      ]
     },
     "execution_count": 165,
     "metadata": {},
     "output_type": "execute_result"
    }
   ],
   "source": [
    "# List of variables\n",
    "df.columns"
   ]
  },
  {
   "cell_type": "code",
   "execution_count": 166,
   "metadata": {},
   "outputs": [],
   "source": [
    "# Rename variables for better distinction\n",
    "df = df.rename(columns={\"SD\": \"SDA\", \"SD_2\": \"SDA_2\", \"SD_3\": \"SDA_3\"})"
   ]
  },
  {
   "cell_type": "code",
   "execution_count": 167,
   "metadata": {},
   "outputs": [],
   "source": [
    "# Make date variable a date\n",
    "df[\"date\"] = pd.to_datetime(df[\"date\"])"
   ]
  },
